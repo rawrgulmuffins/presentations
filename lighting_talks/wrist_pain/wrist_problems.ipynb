{
 "cells": [
  {
   "cell_type": "markdown",
   "metadata": {
    "slideshow": {
     "slide_type": "slide"
    }
   },
   "source": [
    "# Dealing With Wrist Pain When You're Large"
   ]
  },
  {
   "cell_type": "markdown",
   "metadata": {
    "slideshow": {
     "slide_type": "slide"
    }
   },
   "source": [
    "![What It looks like as a body shot](full_body_wrists_together.jpg)"
   ]
  },
  {
   "cell_type": "markdown",
   "metadata": {
    "slideshow": {
     "slide_type": "subslide"
    }
   },
   "source": [
    "![Wrists From A Top Down Perspective](top_down_wrists_together.jpg)"
   ]
  },
  {
   "cell_type": "markdown",
   "metadata": {
    "slideshow": {
     "slide_type": "slide"
    }
   },
   "source": [
    "![Split keyboard from the side](full_body_wrists_split.jpg)"
   ]
  },
  {
   "cell_type": "markdown",
   "metadata": {
    "slideshow": {
     "slide_type": "subslide"
    }
   },
   "source": [
    "![Now lets look at a split keyboard](top_down_wrists_split.jpg)"
   ]
  },
  {
   "cell_type": "markdown",
   "metadata": {
    "slideshow": {
     "slide_type": "slide"
    }
   },
   "source": [
    "# On Buying A Split Keyboard\n",
    "* They're pricy.\n",
    "* Split Keyboards are made for enthusiasts. Takes some investment.\n",
    "* A lot them come without keycaps. Some Assembly required.\n",
    "* It took a lot of getting used to.\n",
    "* Here's an off the shelf keyboard (WARNING: 60% keyboard. Doesn't have arrow keys):\n",
    "https://www.amazon.com/gp/product/B01MSMN5RV/ref=oh_aui_detailpage_o07_s00?ie=UTF8&psc=1\n",
    "* Was totally worth the money and time for me."
   ]
  },
  {
   "cell_type": "markdown",
   "metadata": {
    "slideshow": {
     "slide_type": "slide"
    }
   },
   "source": [
    "# Rolling My Thumb Under My Hand\n",
    "* I would often prcess control or command with my thumb then a short cut.\n",
    "* ctr-c\n",
    "* ctr-w"
   ]
  },
  {
   "cell_type": "markdown",
   "metadata": {
    "slideshow": {
     "slide_type": "subslide"
    }
   },
   "source": [
    "![Here's me pressing the command button and the w key](thumb_under_palm.jpg)"
   ]
  },
  {
   "cell_type": "markdown",
   "metadata": {
    "slideshow": {
     "slide_type": "subslide"
    }
   },
   "source": [
    "# Solution\n",
    "I press command buttons or sequences on my right hand and enter the short-cut key with my left hand."
   ]
  },
  {
   "cell_type": "markdown",
   "metadata": {
    "slideshow": {
     "slide_type": "slide"
    }
   },
   "source": [
    "# Some Stretches That Helped Me\n",
    "**I am not a doctor**\n",
    "\n",
    "**I am not a physical therapist**\n",
    "\n",
    "**I haven't even played a doctor on TV**"
   ]
  },
  {
   "cell_type": "markdown",
   "metadata": {
    "slideshow": {
     "slide_type": "slide"
    }
   },
   "source": [
    "![Reverse Bulldog](reverse_bulldog.jpg)"
   ]
  },
  {
   "cell_type": "markdown",
   "metadata": {
    "slideshow": {
     "slide_type": "subslide"
    }
   },
   "source": [
    "![Bulldog](bulldog.jpg)"
   ]
  },
  {
   "cell_type": "markdown",
   "metadata": {
    "slideshow": {
     "slide_type": "subslide"
    }
   },
   "source": [
    "![I don't remember the name for this stretch](weighted_wrist_lengthener.jpg)"
   ]
  }
 ],
 "metadata": {
  "celltoolbar": "Slideshow",
  "kernelspec": {
   "display_name": "Python 3",
   "language": "python",
   "name": "python3"
  },
  "language_info": {
   "codemirror_mode": {
    "name": "ipython",
    "version": 3
   },
   "file_extension": ".py",
   "mimetype": "text/x-python",
   "name": "python",
   "nbconvert_exporter": "python",
   "pygments_lexer": "ipython3",
   "version": "3.6.4"
  }
 },
 "nbformat": 4,
 "nbformat_minor": 2
}
