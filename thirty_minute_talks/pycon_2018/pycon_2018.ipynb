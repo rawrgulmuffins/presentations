{
 "cells": [
  {
   "cell_type": "markdown",
   "metadata": {},
   "source": [
    "# All Talks\n",
    "https://www.youtube.com/channel/UCsX05-2sVSH7Nx3zuk3NYuQ/videos?flow=grid&sort=p&view=0\n",
    "\n",
    "# All Posters\n",
    "https://www.flickr.com/photos/129877449@N07/sets/72157693710700302/\n",
    "\n",
    "# Note\n",
    "These are my very condensed notes. The full notes can be found here.\n"
   ]
  },
  {
   "cell_type": "markdown",
   "metadata": {},
   "source": [
    "# Pipenv and Pipfile\n",
    "Attempting to do Python packaging better"
   ]
  },
  {
   "cell_type": "code",
   "execution_count": null,
   "metadata": {},
   "outputs": [],
   "source": []
  },
  {
   "cell_type": "code",
   "execution_count": null,
   "metadata": {},
   "outputs": [],
   "source": []
  },
  {
   "cell_type": "markdown",
   "metadata": {},
   "source": [
    "# Logging Tips\n",
    "* Using the `logging.handlers.MemoryHandler` lets you buffer logging output.\n",
    "* You can use this to reduce noise except if there are errors.\n",
    "* This lets you turn INFO logs of in production but still see them for errors."
   ]
  },
  {
   "cell_type": "code",
   "execution_count": null,
   "metadata": {},
   "outputs": [],
   "source": [
    "class SmartBufferHandler(logging.handlers.MemoryHandler):\n",
    "    # Missing init to fit on slides\n",
    "    def emit(self, record):\n",
    "        # The buffer is not thread safe by default\n",
    "        if len(self.buffer) == self.capacity - 1:\n",
    "            self.buffer.pop(0)\n",
    "            super().emit(record)\n",
    "\n",
    "handler = SmartBufferHandler(\n",
    "    buffer=2,\n",
    "    target=logging.StreamHandler(),\n",
    "    flushLevel=ERROR)\n",
    "logger = logging.getLogger(__name__)"
   ]
  },
  {
   "cell_type": "markdown",
   "metadata": {},
   "source": [
    "# Some Python Typing Tips"
   ]
  },
  {
   "cell_type": "code",
   "execution_count": null,
   "metadata": {},
   "outputs": [],
   "source": [
    "from typing iport Optioanl\n",
    "\n",
    "def get_foo(foo_id: Optional[int]) -> Optional[Foo]:\n",
    "    if foo_id is None:\n",
    "        return None\n",
    "    return Foo(foo_id)\n",
    "\n",
    "my_foo = get_foo(3)\n",
    "my_foo.id           # Error: NoneType has no attribute 'id'"
   ]
  },
  {
   "cell_type": "code",
   "execution_count": 5,
   "metadata": {},
   "outputs": [
    {
     "ename": "NameError",
     "evalue": "name 'Foo' is not defined",
     "output_type": "error",
     "traceback": [
      "\u001b[0;31m---------------------------------------------------------------------------\u001b[0m",
      "\u001b[0;31mNameError\u001b[0m                                 Traceback (most recent call last)",
      "\u001b[0;32m<ipython-input-5-c7b81ba66452>\u001b[0m in \u001b[0;36m<module>\u001b[0;34m()\u001b[0m\n\u001b[1;32m      6\u001b[0m \u001b[0;34m\u001b[0m\u001b[0m\n\u001b[1;32m      7\u001b[0m \u001b[0;34m@\u001b[0m\u001b[0moverload\u001b[0m\u001b[0;34m\u001b[0m\u001b[0m\n\u001b[0;32m----> 8\u001b[0;31m \u001b[0;32mdef\u001b[0m \u001b[0mget_foo\u001b[0m\u001b[0;34m(\u001b[0m\u001b[0mfoo_id\u001b[0m\u001b[0;34m:\u001b[0m \u001b[0mint\u001b[0m\u001b[0;34m)\u001b[0m \u001b[0;34m->\u001b[0m \u001b[0mFoo\u001b[0m\u001b[0;34m:\u001b[0m\u001b[0;34m\u001b[0m\u001b[0m\n\u001b[0m\u001b[1;32m      9\u001b[0m     \u001b[0;32mpass\u001b[0m\u001b[0;34m\u001b[0m\u001b[0m\n\u001b[1;32m     10\u001b[0m \u001b[0;34m\u001b[0m\u001b[0m\n",
      "\u001b[0;31mNameError\u001b[0m: name 'Foo' is not defined"
     ]
    }
   ],
   "source": [
    "from typing import Optional, overload\n",
    "\n",
    "@overload\n",
    "def get_foo(foo_id: None) -> None:\n",
    "    pass\n",
    "\n",
    "@overload\n",
    "def get_foo(foo_id: int) -> Foo:\n",
    "    pass\n",
    "\n",
    "def get_foo(foo_id: Optional[int]) -> Optional[Foo]:\n",
    "    if foo_id is None:\n",
    "        return None\n",
    "    return Foo(foo_id)\n",
    "\n",
    "reveal_type(get_foo(None)) # None\n",
    "reveal_type(get_foo(1))    # Foo"
   ]
  },
  {
   "cell_type": "code",
   "execution_count": 6,
   "metadata": {},
   "outputs": [
    {
     "ename": "SyntaxError",
     "evalue": "invalid syntax (<ipython-input-6-dd6537173e6d>, line 3)",
     "output_type": "error",
     "traceback": [
      "\u001b[0;36m  File \u001b[0;32m\"<ipython-input-6-dd6537173e6d>\"\u001b[0;36m, line \u001b[0;32m3\u001b[0m\n\u001b[0;31m    Class Renderable(Protocol):\u001b[0m\n\u001b[0m                   ^\u001b[0m\n\u001b[0;31mSyntaxError\u001b[0m\u001b[0;31m:\u001b[0m invalid syntax\n"
     ]
    }
   ],
   "source": [
    "from typing_extensions import Protocol # Have to import this since it's experimental\n",
    "\n",
    "Class Renderable(Protocol):\n",
    "    def render(self) -> str: ...\n",
    "        \n",
    "def render(obj: Renderable) -> str:\n",
    "    return obj.render()\n",
    "\n",
    "class Foo:\n",
    "    def Render(self) -> str:\n",
    "        return \"Foo!\"\n",
    "    \n",
    "render(Foo()) # Clean!\n",
    "render(3) # Error: expected Renderable"
   ]
  },
  {
   "cell_type": "code",
   "execution_count": null,
   "metadata": {},
   "outputs": [],
   "source": [
    "from typing import TypeVar\n",
    "\n",
    "AnyStr = TypeVar('AnyStr', str, bytes)\n",
    "\n",
    "def concat(a: AnyStr, b: AnyStr) -> AnyStr:\n",
    "    return a + b\n",
    "\n",
    "concat('foo', b'bar') # Typecheck error!\n",
    "concat(3, 6)          # Typecheck error!\n",
    "reveal_type(concat('foo', 'bar')) # str\n",
    "reveal_type(concat(b'foo', b'bar')) # bytes"
   ]
  },
  {
   "cell_type": "markdown",
   "metadata": {},
   "source": [
    "# Escape Hatches"
   ]
  },
  {
   "cell_type": "code",
   "execution_count": null,
   "metadata": {},
   "outputs": [],
   "source": [
    "from typing import cast, any\n",
    "\n",
    "my_config = get_config_var('my_config')\n",
    "reveal_type(my_config) # Any\n",
    "\n",
    "my_config = cast(\n",
    "    Dict[str, int],\n",
    "    get_config_var('my_config'),)\n",
    "\n",
    "reveal_type(my_config) # Dict[str, int]"
   ]
  },
  {
   "cell_type": "code",
   "execution_count": null,
   "metadata": {},
   "outputs": [],
   "source": [
    "triggers_a_mypy_bug('foo') # type: ignore"
   ]
  },
  {
   "cell_type": "markdown",
   "metadata": {},
   "source": [
    "# git-annex\n",
    "* Adds special remote repositories such as S3, Google Drive, App Engine\n",
    "* Datalad organizes multiple repositories into \"super datasets\"\n",
    "* Example Usage here https://github.com/djarecka/full_dataset\n",
    "* Project works by having individual files be \"web symbolic links\" in the git repository"
   ]
  },
  {
   "cell_type": "code",
   "execution_count": null,
   "metadata": {},
   "outputs": [],
   "source": [
    "# TODO: Use DataLab as an example"
   ]
  },
  {
   "cell_type": "markdown",
   "metadata": {},
   "source": [
    "# Generator Comprehensions"
   ]
  },
  {
   "cell_type": "code",
   "execution_count": 8,
   "metadata": {},
   "outputs": [],
   "source": [
    "test = [item for item in range(10)]"
   ]
  },
  {
   "cell_type": "code",
   "execution_count": 7,
   "metadata": {},
   "outputs": [],
   "source": [
    "test = (item for item in range(10))"
   ]
  },
  {
   "cell_type": "markdown",
   "metadata": {},
   "source": [
    "# This Example Finally Made Me understand functools.partial"
   ]
  },
  {
   "cell_type": "code",
   "execution_count": 10,
   "metadata": {},
   "outputs": [
    {
     "data": {
      "text/plain": [
       "18"
      ]
     },
     "execution_count": 10,
     "metadata": {},
     "output_type": "execute_result"
    }
   ],
   "source": [
    "from functools import partial\n",
    "basetwo = partial(int, base=2)\n",
    "basetwo('10010')"
   ]
  },
  {
   "cell_type": "code",
   "execution_count": null,
   "metadata": {},
   "outputs": [],
   "source": []
  }
 ],
 "metadata": {
  "celltoolbar": "Slideshow",
  "kernelspec": {
   "display_name": "Python 3",
   "language": "python",
   "name": "python3"
  },
  "language_info": {
   "codemirror_mode": {
    "name": "ipython",
    "version": 3
   },
   "file_extension": ".py",
   "mimetype": "text/x-python",
   "name": "python",
   "nbconvert_exporter": "python",
   "pygments_lexer": "ipython3",
   "version": "3.6.5"
  }
 },
 "nbformat": 4,
 "nbformat_minor": 2
}
